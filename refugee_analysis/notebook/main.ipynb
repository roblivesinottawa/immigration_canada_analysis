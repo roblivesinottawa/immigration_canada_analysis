{
 "cells": [
  {
   "cell_type": "code",
   "execution_count": 1,
   "metadata": {},
   "outputs": [],
   "source": [
    "import numpy as np\n",
    "import pandas as pd\n",
    "import seaborn as sns\n",
    "import matplotlib.pyplot as plt\n",
    "import datetime\n",
    "from IPython.display import display\n",
    "\n",
    "sns.set_style(\"darkgrid\")"
   ]
  },
  {
   "cell_type": "markdown",
   "metadata": {},
   "source": [
    "CLEANING THE DATA"
   ]
  },
  {
   "cell_type": "code",
   "execution_count": 4,
   "metadata": {},
   "outputs": [
    {
     "data": {
      "text/html": [
       "<div>\n",
       "<style scoped>\n",
       "    .dataframe tbody tr th:only-of-type {\n",
       "        vertical-align: middle;\n",
       "    }\n",
       "\n",
       "    .dataframe tbody tr th {\n",
       "        vertical-align: top;\n",
       "    }\n",
       "\n",
       "    .dataframe thead th {\n",
       "        text-align: right;\n",
       "    }\n",
       "</style>\n",
       "<table border=\"1\" class=\"dataframe\">\n",
       "  <thead>\n",
       "    <tr style=\"text-align: right;\">\n",
       "      <th></th>\n",
       "      <th>Year</th>\n",
       "      <th>Country / territory of asylum/residence</th>\n",
       "      <th>Origin</th>\n",
       "      <th>RSD procedure type / level</th>\n",
       "      <th>Tota pending start-year</th>\n",
       "      <th>of which UNHCR-assisted(start-year)</th>\n",
       "      <th>Applied during year</th>\n",
       "      <th>decisions_recognized</th>\n",
       "      <th>decisions_other</th>\n",
       "      <th>Rejected</th>\n",
       "      <th>Otherwise closed</th>\n",
       "      <th>Total decisions</th>\n",
       "      <th>Total pending end-year</th>\n",
       "      <th>of which UNHCR-assisted(end-year)</th>\n",
       "    </tr>\n",
       "  </thead>\n",
       "  <tbody>\n",
       "    <tr>\n",
       "      <th>0</th>\n",
       "      <td>2000</td>\n",
       "      <td>Zimbabwe</td>\n",
       "      <td>Afghanistan</td>\n",
       "      <td>G / FI</td>\n",
       "      <td>0</td>\n",
       "      <td>0</td>\n",
       "      <td>5</td>\n",
       "      <td>5</td>\n",
       "      <td>0</td>\n",
       "      <td>0</td>\n",
       "      <td>0</td>\n",
       "      <td>5</td>\n",
       "      <td>0</td>\n",
       "      <td>0</td>\n",
       "    </tr>\n",
       "    <tr>\n",
       "      <th>1</th>\n",
       "      <td>2000</td>\n",
       "      <td>South Africa</td>\n",
       "      <td>Afghanistan</td>\n",
       "      <td>G / FI</td>\n",
       "      <td>8</td>\n",
       "      <td>1</td>\n",
       "      <td>0</td>\n",
       "      <td>0</td>\n",
       "      <td>0</td>\n",
       "      <td>0</td>\n",
       "      <td>0</td>\n",
       "      <td>NaN</td>\n",
       "      <td>8</td>\n",
       "      <td>0</td>\n",
       "    </tr>\n",
       "    <tr>\n",
       "      <th>2</th>\n",
       "      <td>2000</td>\n",
       "      <td>Uzbekistan</td>\n",
       "      <td>Afghanistan</td>\n",
       "      <td>U / FI</td>\n",
       "      <td>265</td>\n",
       "      <td>265</td>\n",
       "      <td>2156</td>\n",
       "      <td>747</td>\n",
       "      <td>0</td>\n",
       "      <td>112</td>\n",
       "      <td>327</td>\n",
       "      <td>1186</td>\n",
       "      <td>1235</td>\n",
       "      <td>1235</td>\n",
       "    </tr>\n",
       "    <tr>\n",
       "      <th>3</th>\n",
       "      <td>2000</td>\n",
       "      <td>United States of America</td>\n",
       "      <td>Afghanistan</td>\n",
       "      <td>G / EO</td>\n",
       "      <td>196</td>\n",
       "      <td>0</td>\n",
       "      <td>225</td>\n",
       "      <td>151</td>\n",
       "      <td>0</td>\n",
       "      <td>31</td>\n",
       "      <td>68</td>\n",
       "      <td>250</td>\n",
       "      <td>171</td>\n",
       "      <td>0</td>\n",
       "    </tr>\n",
       "    <tr>\n",
       "      <th>4</th>\n",
       "      <td>2000</td>\n",
       "      <td>United States of America</td>\n",
       "      <td>Afghanistan</td>\n",
       "      <td>G / IN</td>\n",
       "      <td>193</td>\n",
       "      <td>0</td>\n",
       "      <td>218</td>\n",
       "      <td>182</td>\n",
       "      <td>0</td>\n",
       "      <td>51</td>\n",
       "      <td>40</td>\n",
       "      <td>273</td>\n",
       "      <td>150</td>\n",
       "      <td>0</td>\n",
       "    </tr>\n",
       "    <tr>\n",
       "      <th>5</th>\n",
       "      <td>2000</td>\n",
       "      <td>Ukraine</td>\n",
       "      <td>Afghanistan</td>\n",
       "      <td>G / FI</td>\n",
       "      <td>40</td>\n",
       "      <td>0</td>\n",
       "      <td>662</td>\n",
       "      <td>275</td>\n",
       "      <td>0</td>\n",
       "      <td>412</td>\n",
       "      <td>0</td>\n",
       "      <td>687</td>\n",
       "      <td>23</td>\n",
       "      <td>0</td>\n",
       "    </tr>\n",
       "    <tr>\n",
       "      <th>6</th>\n",
       "      <td>2000</td>\n",
       "      <td>Turkey</td>\n",
       "      <td>Afghanistan</td>\n",
       "      <td>U / FI</td>\n",
       "      <td>67</td>\n",
       "      <td>67</td>\n",
       "      <td>81</td>\n",
       "      <td>29</td>\n",
       "      <td>0</td>\n",
       "      <td>24</td>\n",
       "      <td>49</td>\n",
       "      <td>102</td>\n",
       "      <td>46</td>\n",
       "      <td>46</td>\n",
       "    </tr>\n",
       "    <tr>\n",
       "      <th>7</th>\n",
       "      <td>2000</td>\n",
       "      <td>Turkmenistan</td>\n",
       "      <td>Afghanistan</td>\n",
       "      <td>U / FI</td>\n",
       "      <td>416</td>\n",
       "      <td>416</td>\n",
       "      <td>169</td>\n",
       "      <td>126</td>\n",
       "      <td>0</td>\n",
       "      <td>121</td>\n",
       "      <td>210</td>\n",
       "      <td>457</td>\n",
       "      <td>128</td>\n",
       "      <td>128</td>\n",
       "    </tr>\n",
       "    <tr>\n",
       "      <th>8</th>\n",
       "      <td>2000</td>\n",
       "      <td>Tajikistan</td>\n",
       "      <td>Afghanistan</td>\n",
       "      <td>G / FI</td>\n",
       "      <td>2172</td>\n",
       "      <td>30</td>\n",
       "      <td>165</td>\n",
       "      <td>112</td>\n",
       "      <td>0</td>\n",
       "      <td>0</td>\n",
       "      <td>1992</td>\n",
       "      <td>2104</td>\n",
       "      <td>233</td>\n",
       "      <td>40</td>\n",
       "    </tr>\n",
       "    <tr>\n",
       "      <th>9</th>\n",
       "      <td>2000</td>\n",
       "      <td>Thailand</td>\n",
       "      <td>Afghanistan</td>\n",
       "      <td>U / AR</td>\n",
       "      <td>0</td>\n",
       "      <td>0</td>\n",
       "      <td>2</td>\n",
       "      <td>1</td>\n",
       "      <td>0</td>\n",
       "      <td>1</td>\n",
       "      <td>0</td>\n",
       "      <td>2</td>\n",
       "      <td>0</td>\n",
       "      <td>0</td>\n",
       "    </tr>\n",
       "  </tbody>\n",
       "</table>\n",
       "</div>"
      ],
      "text/plain": [
       "   Year Country / territory of asylum/residence       Origin  \\\n",
       "0  2000                                Zimbabwe  Afghanistan   \n",
       "1  2000                            South Africa  Afghanistan   \n",
       "2  2000                              Uzbekistan  Afghanistan   \n",
       "3  2000                United States of America  Afghanistan   \n",
       "4  2000                United States of America  Afghanistan   \n",
       "5  2000                                 Ukraine  Afghanistan   \n",
       "6  2000                                  Turkey  Afghanistan   \n",
       "7  2000                            Turkmenistan  Afghanistan   \n",
       "8  2000                              Tajikistan  Afghanistan   \n",
       "9  2000                                Thailand  Afghanistan   \n",
       "\n",
       "  RSD procedure type / level Tota pending start-year  \\\n",
       "0                     G / FI                       0   \n",
       "1                     G / FI                       8   \n",
       "2                     U / FI                     265   \n",
       "3                     G / EO                     196   \n",
       "4                     G / IN                     193   \n",
       "5                     G / FI                      40   \n",
       "6                     U / FI                      67   \n",
       "7                     U / FI                     416   \n",
       "8                     G / FI                    2172   \n",
       "9                     U / AR                       0   \n",
       "\n",
       "  of which UNHCR-assisted(start-year) Applied during year  \\\n",
       "0                                   0                   5   \n",
       "1                                   1                   0   \n",
       "2                                 265                2156   \n",
       "3                                   0                 225   \n",
       "4                                   0                 218   \n",
       "5                                   0                 662   \n",
       "6                                  67                  81   \n",
       "7                                 416                 169   \n",
       "8                                  30                 165   \n",
       "9                                   0                   2   \n",
       "\n",
       "  decisions_recognized decisions_other Rejected Otherwise closed  \\\n",
       "0                    5               0        0                0   \n",
       "1                    0               0        0                0   \n",
       "2                  747               0      112              327   \n",
       "3                  151               0       31               68   \n",
       "4                  182               0       51               40   \n",
       "5                  275               0      412                0   \n",
       "6                   29               0       24               49   \n",
       "7                  126               0      121              210   \n",
       "8                  112               0        0             1992   \n",
       "9                    1               0        1                0   \n",
       "\n",
       "  Total decisions Total pending end-year of which UNHCR-assisted(end-year)  \n",
       "0               5                      0                                 0  \n",
       "1             NaN                      8                                 0  \n",
       "2            1186                   1235                              1235  \n",
       "3             250                    171                                 0  \n",
       "4             273                    150                                 0  \n",
       "5             687                     23                                 0  \n",
       "6             102                     46                                46  \n",
       "7             457                    128                               128  \n",
       "8            2104                    233                                40  \n",
       "9               2                      0                                 0  "
      ]
     },
     "execution_count": 4,
     "metadata": {},
     "output_type": "execute_result"
    }
   ],
   "source": [
    "df = pd.read_csv(\"../data/asylum_seekers.csv\", low_memory=False)\n",
    "df.head(10)"
   ]
  },
  {
   "cell_type": "code",
   "execution_count": 5,
   "metadata": {},
   "outputs": [
    {
     "name": "stdout",
     "output_type": "stream",
     "text": [
      "<class 'pandas.core.frame.DataFrame'>\n",
      "RangeIndex: 129720 entries, 0 to 129719\n",
      "Data columns (total 14 columns):\n",
      " #   Column                                   Non-Null Count   Dtype \n",
      "---  ------                                   --------------   ----- \n",
      " 0   Year                                     129720 non-null  int64 \n",
      " 1   Country / territory of asylum/residence  129720 non-null  object\n",
      " 2   Origin                                   129720 non-null  object\n",
      " 3   RSD procedure type / level               129719 non-null  object\n",
      " 4   Tota pending start-year                  124578 non-null  object\n",
      " 5   of which UNHCR-assisted(start-year)      118962 non-null  object\n",
      " 6   Applied during year                      126222 non-null  object\n",
      " 7   decisions_recognized                     119886 non-null  object\n",
      " 8   decisions_other                          114974 non-null  object\n",
      " 9   Rejected                                 121615 non-null  object\n",
      " 10  Otherwise closed                         120850 non-null  object\n",
      " 11  Total decisions                          97082 non-null   object\n",
      " 12  Total pending end-year                   125832 non-null  object\n",
      " 13  of which UNHCR-assisted(end-year)        121883 non-null  object\n",
      "dtypes: int64(1), object(13)\n",
      "memory usage: 13.9+ MB\n"
     ]
    }
   ],
   "source": [
    "df.info()"
   ]
  },
  {
   "cell_type": "code",
   "execution_count": 6,
   "metadata": {},
   "outputs": [
    {
     "data": {
      "text/html": [
       "<div>\n",
       "<style scoped>\n",
       "    .dataframe tbody tr th:only-of-type {\n",
       "        vertical-align: middle;\n",
       "    }\n",
       "\n",
       "    .dataframe tbody tr th {\n",
       "        vertical-align: top;\n",
       "    }\n",
       "\n",
       "    .dataframe thead th {\n",
       "        text-align: right;\n",
       "    }\n",
       "</style>\n",
       "<table border=\"1\" class=\"dataframe\">\n",
       "  <thead>\n",
       "    <tr style=\"text-align: right;\">\n",
       "      <th></th>\n",
       "      <th>Year</th>\n",
       "    </tr>\n",
       "  </thead>\n",
       "  <tbody>\n",
       "    <tr>\n",
       "      <th>count</th>\n",
       "      <td>129720.000000</td>\n",
       "    </tr>\n",
       "    <tr>\n",
       "      <th>mean</th>\n",
       "      <td>2009.053500</td>\n",
       "    </tr>\n",
       "    <tr>\n",
       "      <th>std</th>\n",
       "      <td>4.877886</td>\n",
       "    </tr>\n",
       "    <tr>\n",
       "      <th>min</th>\n",
       "      <td>2000.000000</td>\n",
       "    </tr>\n",
       "    <tr>\n",
       "      <th>25%</th>\n",
       "      <td>2005.000000</td>\n",
       "    </tr>\n",
       "    <tr>\n",
       "      <th>50%</th>\n",
       "      <td>2010.000000</td>\n",
       "    </tr>\n",
       "    <tr>\n",
       "      <th>75%</th>\n",
       "      <td>2013.000000</td>\n",
       "    </tr>\n",
       "    <tr>\n",
       "      <th>max</th>\n",
       "      <td>2016.000000</td>\n",
       "    </tr>\n",
       "  </tbody>\n",
       "</table>\n",
       "</div>"
      ],
      "text/plain": [
       "                Year\n",
       "count  129720.000000\n",
       "mean     2009.053500\n",
       "std         4.877886\n",
       "min      2000.000000\n",
       "25%      2005.000000\n",
       "50%      2010.000000\n",
       "75%      2013.000000\n",
       "max      2016.000000"
      ]
     },
     "execution_count": 6,
     "metadata": {},
     "output_type": "execute_result"
    }
   ],
   "source": [
    "df.describe()"
   ]
  },
  {
   "cell_type": "code",
   "execution_count": 7,
   "metadata": {},
   "outputs": [
    {
     "data": {
      "text/plain": [
       "Index(['Year', 'Country / territory of asylum/residence', 'Origin',\n",
       "       'RSD procedure type / level', 'Tota pending start-year',\n",
       "       'of which UNHCR-assisted(start-year)', 'Applied during year',\n",
       "       'decisions_recognized', 'decisions_other', 'Rejected',\n",
       "       'Otherwise closed', 'Total decisions', 'Total pending end-year',\n",
       "       'of which UNHCR-assisted(end-year)'],\n",
       "      dtype='object')"
      ]
     },
     "execution_count": 7,
     "metadata": {},
     "output_type": "execute_result"
    }
   ],
   "source": [
    "df.columns"
   ]
  },
  {
   "cell_type": "code",
   "execution_count": 8,
   "metadata": {},
   "outputs": [
    {
     "data": {
      "text/plain": [
       "Year                                           0\n",
       "Country / territory of asylum/residence        0\n",
       "Origin                                         0\n",
       "RSD procedure type / level                     1\n",
       "Tota pending start-year                     5142\n",
       "of which UNHCR-assisted(start-year)        10758\n",
       "Applied during year                         3498\n",
       "decisions_recognized                        9834\n",
       "decisions_other                            14746\n",
       "Rejected                                    8105\n",
       "Otherwise closed                            8870\n",
       "Total decisions                            32638\n",
       "Total pending end-year                      3888\n",
       "of which UNHCR-assisted(end-year)           7837\n",
       "dtype: int64"
      ]
     },
     "execution_count": 8,
     "metadata": {},
     "output_type": "execute_result"
    }
   ],
   "source": [
    "df.isna().sum()"
   ]
  },
  {
   "cell_type": "code",
   "execution_count": 9,
   "metadata": {},
   "outputs": [],
   "source": [
    "df = df.fillna(value=\"\")"
   ]
  },
  {
   "cell_type": "code",
   "execution_count": 10,
   "metadata": {},
   "outputs": [
    {
     "data": {
      "text/plain": [
       "Year                                       0\n",
       "Country / territory of asylum/residence    0\n",
       "Origin                                     0\n",
       "RSD procedure type / level                 0\n",
       "Tota pending start-year                    0\n",
       "of which UNHCR-assisted(start-year)        0\n",
       "Applied during year                        0\n",
       "decisions_recognized                       0\n",
       "decisions_other                            0\n",
       "Rejected                                   0\n",
       "Otherwise closed                           0\n",
       "Total decisions                            0\n",
       "Total pending end-year                     0\n",
       "of which UNHCR-assisted(end-year)          0\n",
       "dtype: int64"
      ]
     },
     "execution_count": 10,
     "metadata": {},
     "output_type": "execute_result"
    }
   ],
   "source": [
    "df.isna().sum()"
   ]
  },
  {
   "cell_type": "code",
   "execution_count": 11,
   "metadata": {},
   "outputs": [],
   "source": [
    "df = df.replace([\"*\"], [\"\"])"
   ]
  },
  {
   "cell_type": "code",
   "execution_count": 12,
   "metadata": {},
   "outputs": [],
   "source": [
    "labels = ['year',\n",
    "          'country_of_residence',\n",
    "          'country_of_origin',\n",
    "          'rsd_type',\n",
    "          'total_pending_at_year_start',\n",
    "          'total_pending_year_start_UNHCR_assisted',\n",
    "          'applied_during_year',\n",
    "          'decisions_recognized',\n",
    "          'decisions_other',\n",
    "          'rejected',\n",
    "          'otherwise_closed',\n",
    "          'total_decisions',\n",
    "          'total_pending_at_year_end',\n",
    "          'total_pending_year_end_UNHCR_assisted']\n",
    "\n",
    "df.columns = labels"
   ]
  },
  {
   "cell_type": "code",
   "execution_count": 14,
   "metadata": {},
   "outputs": [
    {
     "name": "stdout",
     "output_type": "stream",
     "text": [
      "   year      country_of_residence country_of_origin rsd_type  \\\n",
      "0  2000                  Zimbabwe       Afghanistan   G / FI   \n",
      "1  2000              South Africa       Afghanistan   G / FI   \n",
      "2  2000                Uzbekistan       Afghanistan   U / FI   \n",
      "3  2000  United States of America       Afghanistan   G / EO   \n",
      "4  2000  United States of America       Afghanistan   G / IN   \n",
      "\n",
      "  total_pending_at_year_start total_pending_year_start_UNHCR_assisted  \\\n",
      "0                           0                                       0   \n",
      "1                           8                                       1   \n",
      "2                         265                                     265   \n",
      "3                         196                                       0   \n",
      "4                         193                                       0   \n",
      "\n",
      "  applied_during_year decisions_recognized decisions_other rejected  \\\n",
      "0                   5                    5               0        0   \n",
      "1                   0                    0               0        0   \n",
      "2                2156                  747               0      112   \n",
      "3                 225                  151               0       31   \n",
      "4                 218                  182               0       51   \n",
      "\n",
      "  otherwise_closed total_decisions total_pending_at_year_end  \\\n",
      "0                0               5                         0   \n",
      "1                0                                         8   \n",
      "2              327            1186                      1235   \n",
      "3               68             250                       171   \n",
      "4               40             273                       150   \n",
      "\n",
      "  total_pending_year_end_UNHCR_assisted  \n",
      "0                                     0  \n",
      "1                                     0  \n",
      "2                                  1235  \n",
      "3                                     0  \n",
      "4                                     0  \n"
     ]
    }
   ],
   "source": [
    "print(df.head())"
   ]
  },
  {
   "cell_type": "code",
   "execution_count": 16,
   "metadata": {},
   "outputs": [
    {
     "data": {
      "text/plain": [
       "Index(['year', 'country_of_residence', 'country_of_origin', 'rsd_type',\n",
       "       'total_pending_at_year_start',\n",
       "       'total_pending_year_start_UNHCR_assisted', 'applied_during_year',\n",
       "       'decisions_recognized', 'decisions_other', 'rejected',\n",
       "       'otherwise_closed', 'total_decisions', 'total_pending_at_year_end',\n",
       "       'total_pending_year_end_UNHCR_assisted'],\n",
       "      dtype='object')"
      ]
     },
     "execution_count": 16,
     "metadata": {},
     "output_type": "execute_result"
    }
   ],
   "source": [
    "df.columns"
   ]
  },
  {
   "cell_type": "code",
   "execution_count": 17,
   "metadata": {},
   "outputs": [],
   "source": [
    "# convert 'applied_during_year' to numeric\n",
    "df['applied_during_year'] = pd.to_numeric(df['applied_during_year'], errors='coerce')"
   ]
  },
  {
   "cell_type": "code",
   "execution_count": 18,
   "metadata": {},
   "outputs": [
    {
     "data": {
      "text/html": [
       "<div>\n",
       "<style scoped>\n",
       "    .dataframe tbody tr th:only-of-type {\n",
       "        vertical-align: middle;\n",
       "    }\n",
       "\n",
       "    .dataframe tbody tr th {\n",
       "        vertical-align: top;\n",
       "    }\n",
       "\n",
       "    .dataframe thead th {\n",
       "        text-align: right;\n",
       "    }\n",
       "</style>\n",
       "<table border=\"1\" class=\"dataframe\">\n",
       "  <thead>\n",
       "    <tr style=\"text-align: right;\">\n",
       "      <th></th>\n",
       "      <th>year</th>\n",
       "      <th>country_of_residence</th>\n",
       "      <th>country_of_origin</th>\n",
       "      <th>rsd_type</th>\n",
       "      <th>total_pending_at_year_start</th>\n",
       "      <th>total_pending_year_start_UNHCR_assisted</th>\n",
       "      <th>applied_during_year</th>\n",
       "      <th>decisions_recognized</th>\n",
       "      <th>decisions_other</th>\n",
       "      <th>rejected</th>\n",
       "      <th>otherwise_closed</th>\n",
       "      <th>total_decisions</th>\n",
       "      <th>total_pending_at_year_end</th>\n",
       "      <th>total_pending_year_end_UNHCR_assisted</th>\n",
       "    </tr>\n",
       "  </thead>\n",
       "  <tbody>\n",
       "    <tr>\n",
       "      <th>0</th>\n",
       "      <td>2000</td>\n",
       "      <td>Zimbabwe</td>\n",
       "      <td>Afghanistan</td>\n",
       "      <td>G / FI</td>\n",
       "      <td>0</td>\n",
       "      <td>0</td>\n",
       "      <td>5.0</td>\n",
       "      <td>5</td>\n",
       "      <td>0</td>\n",
       "      <td>0</td>\n",
       "      <td>0</td>\n",
       "      <td>5</td>\n",
       "      <td>0</td>\n",
       "      <td>0</td>\n",
       "    </tr>\n",
       "    <tr>\n",
       "      <th>1</th>\n",
       "      <td>2000</td>\n",
       "      <td>South Africa</td>\n",
       "      <td>Afghanistan</td>\n",
       "      <td>G / FI</td>\n",
       "      <td>8</td>\n",
       "      <td>1</td>\n",
       "      <td>0.0</td>\n",
       "      <td>0</td>\n",
       "      <td>0</td>\n",
       "      <td>0</td>\n",
       "      <td>0</td>\n",
       "      <td></td>\n",
       "      <td>8</td>\n",
       "      <td>0</td>\n",
       "    </tr>\n",
       "    <tr>\n",
       "      <th>2</th>\n",
       "      <td>2000</td>\n",
       "      <td>Uzbekistan</td>\n",
       "      <td>Afghanistan</td>\n",
       "      <td>U / FI</td>\n",
       "      <td>265</td>\n",
       "      <td>265</td>\n",
       "      <td>2156.0</td>\n",
       "      <td>747</td>\n",
       "      <td>0</td>\n",
       "      <td>112</td>\n",
       "      <td>327</td>\n",
       "      <td>1186</td>\n",
       "      <td>1235</td>\n",
       "      <td>1235</td>\n",
       "    </tr>\n",
       "    <tr>\n",
       "      <th>3</th>\n",
       "      <td>2000</td>\n",
       "      <td>United States of America</td>\n",
       "      <td>Afghanistan</td>\n",
       "      <td>G / EO</td>\n",
       "      <td>196</td>\n",
       "      <td>0</td>\n",
       "      <td>225.0</td>\n",
       "      <td>151</td>\n",
       "      <td>0</td>\n",
       "      <td>31</td>\n",
       "      <td>68</td>\n",
       "      <td>250</td>\n",
       "      <td>171</td>\n",
       "      <td>0</td>\n",
       "    </tr>\n",
       "    <tr>\n",
       "      <th>4</th>\n",
       "      <td>2000</td>\n",
       "      <td>United States of America</td>\n",
       "      <td>Afghanistan</td>\n",
       "      <td>G / IN</td>\n",
       "      <td>193</td>\n",
       "      <td>0</td>\n",
       "      <td>218.0</td>\n",
       "      <td>182</td>\n",
       "      <td>0</td>\n",
       "      <td>51</td>\n",
       "      <td>40</td>\n",
       "      <td>273</td>\n",
       "      <td>150</td>\n",
       "      <td>0</td>\n",
       "    </tr>\n",
       "  </tbody>\n",
       "</table>\n",
       "</div>"
      ],
      "text/plain": [
       "   year      country_of_residence country_of_origin rsd_type  \\\n",
       "0  2000                  Zimbabwe       Afghanistan   G / FI   \n",
       "1  2000              South Africa       Afghanistan   G / FI   \n",
       "2  2000                Uzbekistan       Afghanistan   U / FI   \n",
       "3  2000  United States of America       Afghanistan   G / EO   \n",
       "4  2000  United States of America       Afghanistan   G / IN   \n",
       "\n",
       "  total_pending_at_year_start total_pending_year_start_UNHCR_assisted  \\\n",
       "0                           0                                       0   \n",
       "1                           8                                       1   \n",
       "2                         265                                     265   \n",
       "3                         196                                       0   \n",
       "4                         193                                       0   \n",
       "\n",
       "   applied_during_year decisions_recognized decisions_other rejected  \\\n",
       "0                  5.0                    5               0        0   \n",
       "1                  0.0                    0               0        0   \n",
       "2               2156.0                  747               0      112   \n",
       "3                225.0                  151               0       31   \n",
       "4                218.0                  182               0       51   \n",
       "\n",
       "  otherwise_closed total_decisions total_pending_at_year_end  \\\n",
       "0                0               5                         0   \n",
       "1                0                                         8   \n",
       "2              327            1186                      1235   \n",
       "3               68             250                       171   \n",
       "4               40             273                       150   \n",
       "\n",
       "  total_pending_year_end_UNHCR_assisted  \n",
       "0                                     0  \n",
       "1                                     0  \n",
       "2                                  1235  \n",
       "3                                     0  \n",
       "4                                     0  "
      ]
     },
     "execution_count": 18,
     "metadata": {},
     "output_type": "execute_result"
    }
   ],
   "source": [
    "df.head()"
   ]
  },
  {
   "cell_type": "code",
   "execution_count": 20,
   "metadata": {},
   "outputs": [
    {
     "data": {
      "text/plain": [
       "pandas.core.series.Series"
      ]
     },
     "execution_count": 20,
     "metadata": {},
     "output_type": "execute_result"
    }
   ],
   "source": [
    "type(df['applied_during_year'])"
   ]
  },
  {
   "cell_type": "code",
   "execution_count": 21,
   "metadata": {},
   "outputs": [
    {
     "data": {
      "text/plain": [
       "pandas.core.frame.DataFrame"
      ]
     },
     "execution_count": 21,
     "metadata": {},
     "output_type": "execute_result"
    }
   ],
   "source": [
    "type(df)"
   ]
  },
  {
   "cell_type": "code",
   "execution_count": 22,
   "metadata": {},
   "outputs": [],
   "source": [
    "# convert all numeric columns to floats\n",
    "cols =  ['total_pending_at_year_start',\n",
    "          'total_pending_year_start_UNHCR_assisted',\n",
    "          'applied_during_year',\n",
    "          'decisions_recognized',\n",
    "          'decisions_other',\n",
    "          'rejected',\n",
    "          'otherwise_closed',\n",
    "          'total_decisions',\n",
    "          'total_pending_at_year_end',\n",
    "          'total_pending_year_end_UNHCR_assisted']\n",
    "\n",
    "for col in cols:\n",
    "    df[col] = pd.to_numeric(df[col], errors='coerce')\n",
    "    df[col] = df[col].astype(float)"
   ]
  },
  {
   "cell_type": "code",
   "execution_count": 23,
   "metadata": {},
   "outputs": [],
   "source": [
    "# format 'rsd' as list of strings\n",
    "df.rsd_type = [[x[:1], x[:4]] for x in df.rsd_type]"
   ]
  },
  {
   "cell_type": "code",
   "execution_count": 24,
   "metadata": {},
   "outputs": [
    {
     "data": {
      "text/html": [
       "<div>\n",
       "<style scoped>\n",
       "    .dataframe tbody tr th:only-of-type {\n",
       "        vertical-align: middle;\n",
       "    }\n",
       "\n",
       "    .dataframe tbody tr th {\n",
       "        vertical-align: top;\n",
       "    }\n",
       "\n",
       "    .dataframe thead th {\n",
       "        text-align: right;\n",
       "    }\n",
       "</style>\n",
       "<table border=\"1\" class=\"dataframe\">\n",
       "  <thead>\n",
       "    <tr style=\"text-align: right;\">\n",
       "      <th></th>\n",
       "      <th>year</th>\n",
       "      <th>country_of_residence</th>\n",
       "      <th>country_of_origin</th>\n",
       "      <th>rsd_type</th>\n",
       "      <th>total_pending_at_year_start</th>\n",
       "      <th>total_pending_year_start_UNHCR_assisted</th>\n",
       "      <th>applied_during_year</th>\n",
       "      <th>decisions_recognized</th>\n",
       "      <th>decisions_other</th>\n",
       "      <th>rejected</th>\n",
       "      <th>otherwise_closed</th>\n",
       "      <th>total_decisions</th>\n",
       "      <th>total_pending_at_year_end</th>\n",
       "      <th>total_pending_year_end_UNHCR_assisted</th>\n",
       "    </tr>\n",
       "  </thead>\n",
       "  <tbody>\n",
       "    <tr>\n",
       "      <th>0</th>\n",
       "      <td>2000</td>\n",
       "      <td>Zimbabwe</td>\n",
       "      <td>Afghanistan</td>\n",
       "      <td>[G, G / ]</td>\n",
       "      <td>0.0</td>\n",
       "      <td>0.0</td>\n",
       "      <td>5.0</td>\n",
       "      <td>5.0</td>\n",
       "      <td>0.0</td>\n",
       "      <td>0.0</td>\n",
       "      <td>0.0</td>\n",
       "      <td>5.0</td>\n",
       "      <td>0.0</td>\n",
       "      <td>0.0</td>\n",
       "    </tr>\n",
       "    <tr>\n",
       "      <th>1</th>\n",
       "      <td>2000</td>\n",
       "      <td>South Africa</td>\n",
       "      <td>Afghanistan</td>\n",
       "      <td>[G, G / ]</td>\n",
       "      <td>8.0</td>\n",
       "      <td>1.0</td>\n",
       "      <td>0.0</td>\n",
       "      <td>0.0</td>\n",
       "      <td>0.0</td>\n",
       "      <td>0.0</td>\n",
       "      <td>0.0</td>\n",
       "      <td>NaN</td>\n",
       "      <td>8.0</td>\n",
       "      <td>0.0</td>\n",
       "    </tr>\n",
       "    <tr>\n",
       "      <th>2</th>\n",
       "      <td>2000</td>\n",
       "      <td>Uzbekistan</td>\n",
       "      <td>Afghanistan</td>\n",
       "      <td>[U, U / ]</td>\n",
       "      <td>265.0</td>\n",
       "      <td>265.0</td>\n",
       "      <td>2156.0</td>\n",
       "      <td>747.0</td>\n",
       "      <td>0.0</td>\n",
       "      <td>112.0</td>\n",
       "      <td>327.0</td>\n",
       "      <td>1186.0</td>\n",
       "      <td>1235.0</td>\n",
       "      <td>1235.0</td>\n",
       "    </tr>\n",
       "  </tbody>\n",
       "</table>\n",
       "</div>"
      ],
      "text/plain": [
       "   year country_of_residence country_of_origin   rsd_type  \\\n",
       "0  2000             Zimbabwe       Afghanistan  [G, G / ]   \n",
       "1  2000         South Africa       Afghanistan  [G, G / ]   \n",
       "2  2000           Uzbekistan       Afghanistan  [U, U / ]   \n",
       "\n",
       "   total_pending_at_year_start  total_pending_year_start_UNHCR_assisted  \\\n",
       "0                          0.0                                      0.0   \n",
       "1                          8.0                                      1.0   \n",
       "2                        265.0                                    265.0   \n",
       "\n",
       "   applied_during_year  decisions_recognized  decisions_other  rejected  \\\n",
       "0                  5.0                   5.0              0.0       0.0   \n",
       "1                  0.0                   0.0              0.0       0.0   \n",
       "2               2156.0                 747.0              0.0     112.0   \n",
       "\n",
       "   otherwise_closed  total_decisions  total_pending_at_year_end  \\\n",
       "0               0.0              5.0                        0.0   \n",
       "1               0.0              NaN                        8.0   \n",
       "2             327.0           1186.0                     1235.0   \n",
       "\n",
       "   total_pending_year_end_UNHCR_assisted  \n",
       "0                                    0.0  \n",
       "1                                    0.0  \n",
       "2                                 1235.0  "
      ]
     },
     "execution_count": 24,
     "metadata": {},
     "output_type": "execute_result"
    }
   ],
   "source": [
    "df[0:3]"
   ]
  },
  {
   "cell_type": "code",
   "execution_count": 25,
   "metadata": {},
   "outputs": [],
   "source": [
    "# replace lenghty country names with shorter names \n",
    "df = df.replace(['Syrian Arab Republic'], ['Syria'])\n",
    "df = df.replace(['United States of America'], ['United States'])\n",
    "df = df.replace(['Serbia and Kosovo (S/RES/1244 (1999))'], ['Serbia/Kosovo'])\n",
    "df = df.replace(['Venezuelan (Bolivarian Republic of)'], ['Venezuela'])"
   ]
  },
  {
   "cell_type": "markdown",
   "metadata": {},
   "source": [
    "COMPARING COUNTRY OF ORIGIN APPLICATION RATES"
   ]
  },
  {
   "cell_type": "code",
   "execution_count": 26,
   "metadata": {},
   "outputs": [
    {
     "data": {
      "text/plain": [
       "190"
      ]
     },
     "execution_count": 26,
     "metadata": {},
     "output_type": "execute_result"
    }
   ],
   "source": [
    "# CHECK THE QUANTITY OF COUNTRIES OF RESIDENCE IN THE DATAFRAME\n",
    "len(df.country_of_residence.unique())"
   ]
  },
  {
   "cell_type": "code",
   "execution_count": 27,
   "metadata": {},
   "outputs": [
    {
     "data": {
      "text/plain": [
       "222"
      ]
     },
     "execution_count": 27,
     "metadata": {},
     "output_type": "execute_result"
    }
   ],
   "source": [
    "# CHECK THE QUANTITY OF COUNTRIES OF ORIGIN IN THE DATAFRAME\n",
    "len(df.country_of_origin.unique())"
   ]
  },
  {
   "cell_type": "code",
   "execution_count": 28,
   "metadata": {},
   "outputs": [],
   "source": [
    "# FILTER DATAFRAME BY YEAR\n",
    "df_2016 = df.query('year == 2016')\n",
    "df_2010 = df.query('year == 2010')"
   ]
  },
  {
   "cell_type": "code",
   "execution_count": null,
   "metadata": {},
   "outputs": [],
   "source": []
  }
 ],
 "metadata": {
  "interpreter": {
   "hash": "7e1998ff7f8aa20ada591c520b972326324e5ea05489af9e422744c7c09f6dad"
  },
  "kernelspec": {
   "display_name": "Python 3.10.0 64-bit",
   "language": "python",
   "name": "python3"
  },
  "language_info": {
   "codemirror_mode": {
    "name": "ipython",
    "version": 3
   },
   "file_extension": ".py",
   "mimetype": "text/x-python",
   "name": "python",
   "nbconvert_exporter": "python",
   "pygments_lexer": "ipython3",
   "version": "3.9.7"
  },
  "orig_nbformat": 4
 },
 "nbformat": 4,
 "nbformat_minor": 2
}
